{
 "cells": [
  {
   "cell_type": "markdown",
   "id": "16a1e95b",
   "metadata": {},
   "source": [
    "# app.patika.dev Veri Bilimi 101 Modülü - Proje"
   ]
  },
  {
   "cell_type": "markdown",
   "id": "378c6da7",
   "metadata": {},
   "source": [
    "## Linear Regression with Python Scikit Learn"
   ]
  },
  {
   "cell_type": "markdown",
   "id": "c8cb6227",
   "metadata": {},
   "source": [
    "2 değişken içeren bir veri seti ile basit doğrusal regresyon çalışması. "
   ]
  },
  {
   "cell_type": "markdown",
   "id": "385a2ce9",
   "metadata": {},
   "source": [
    "**Veri Seti:** Öğrencilerin çalışma saatleri ve bir sınavdan aldıkları notları içeren, 2 sütun ve 25 satırdan oluşan bir veri seti kullandım. Verileri http://bit.ly/w-data adresinden aldım. https://bit.ly/2HxiGGJ adresindeki örnek çözümden kopya çektim :)."
   ]
  },
  {
   "cell_type": "code",
   "execution_count": 12,
   "id": "3efe2521",
   "metadata": {
    "scrolled": true
   },
   "outputs": [],
   "source": [
    "# Proje için gerekli kütüphaneleri import ettim.\n",
    "import pandas as pd\n",
    "import numpy as np\n",
    "import matplotlib.pyplot as plt\n",
    "%matplotlib inline"
   ]
  },
  {
   "cell_type": "code",
   "execution_count": 13,
   "id": "e8af0ab4",
   "metadata": {},
   "outputs": [
    {
     "name": "stdout",
     "output_type": "stream",
     "text": [
      "veriler başarıyla alındı\n"
     ]
    }
   ],
   "source": [
    "#link ile verileri alma\n",
    "url = \"http://bit.ly/w-data\"\n",
    "s_data = pd.read_csv(url)\n",
    "print(\"veriler başarıyla alındı\")"
   ]
  },
  {
   "cell_type": "code",
   "execution_count": 14,
   "id": "cfc579a1",
   "metadata": {},
   "outputs": [
    {
     "data": {
      "text/html": [
       "<div>\n",
       "<style scoped>\n",
       "    .dataframe tbody tr th:only-of-type {\n",
       "        vertical-align: middle;\n",
       "    }\n",
       "\n",
       "    .dataframe tbody tr th {\n",
       "        vertical-align: top;\n",
       "    }\n",
       "\n",
       "    .dataframe thead th {\n",
       "        text-align: right;\n",
       "    }\n",
       "</style>\n",
       "<table border=\"1\" class=\"dataframe\">\n",
       "  <thead>\n",
       "    <tr style=\"text-align: right;\">\n",
       "      <th></th>\n",
       "      <th>Hours</th>\n",
       "      <th>Scores</th>\n",
       "    </tr>\n",
       "  </thead>\n",
       "  <tbody>\n",
       "    <tr>\n",
       "      <th>0</th>\n",
       "      <td>2.5</td>\n",
       "      <td>21</td>\n",
       "    </tr>\n",
       "    <tr>\n",
       "      <th>1</th>\n",
       "      <td>5.1</td>\n",
       "      <td>47</td>\n",
       "    </tr>\n",
       "    <tr>\n",
       "      <th>2</th>\n",
       "      <td>3.2</td>\n",
       "      <td>27</td>\n",
       "    </tr>\n",
       "    <tr>\n",
       "      <th>3</th>\n",
       "      <td>8.5</td>\n",
       "      <td>75</td>\n",
       "    </tr>\n",
       "    <tr>\n",
       "      <th>4</th>\n",
       "      <td>3.5</td>\n",
       "      <td>30</td>\n",
       "    </tr>\n",
       "    <tr>\n",
       "      <th>5</th>\n",
       "      <td>1.5</td>\n",
       "      <td>20</td>\n",
       "    </tr>\n",
       "    <tr>\n",
       "      <th>6</th>\n",
       "      <td>9.2</td>\n",
       "      <td>88</td>\n",
       "    </tr>\n",
       "    <tr>\n",
       "      <th>7</th>\n",
       "      <td>5.5</td>\n",
       "      <td>60</td>\n",
       "    </tr>\n",
       "    <tr>\n",
       "      <th>8</th>\n",
       "      <td>8.3</td>\n",
       "      <td>81</td>\n",
       "    </tr>\n",
       "    <tr>\n",
       "      <th>9</th>\n",
       "      <td>2.7</td>\n",
       "      <td>25</td>\n",
       "    </tr>\n",
       "    <tr>\n",
       "      <th>10</th>\n",
       "      <td>7.7</td>\n",
       "      <td>85</td>\n",
       "    </tr>\n",
       "    <tr>\n",
       "      <th>11</th>\n",
       "      <td>5.9</td>\n",
       "      <td>62</td>\n",
       "    </tr>\n",
       "    <tr>\n",
       "      <th>12</th>\n",
       "      <td>4.5</td>\n",
       "      <td>41</td>\n",
       "    </tr>\n",
       "    <tr>\n",
       "      <th>13</th>\n",
       "      <td>3.3</td>\n",
       "      <td>42</td>\n",
       "    </tr>\n",
       "    <tr>\n",
       "      <th>14</th>\n",
       "      <td>1.1</td>\n",
       "      <td>17</td>\n",
       "    </tr>\n",
       "    <tr>\n",
       "      <th>15</th>\n",
       "      <td>8.9</td>\n",
       "      <td>95</td>\n",
       "    </tr>\n",
       "    <tr>\n",
       "      <th>16</th>\n",
       "      <td>2.5</td>\n",
       "      <td>30</td>\n",
       "    </tr>\n",
       "    <tr>\n",
       "      <th>17</th>\n",
       "      <td>1.9</td>\n",
       "      <td>24</td>\n",
       "    </tr>\n",
       "    <tr>\n",
       "      <th>18</th>\n",
       "      <td>6.1</td>\n",
       "      <td>67</td>\n",
       "    </tr>\n",
       "    <tr>\n",
       "      <th>19</th>\n",
       "      <td>7.4</td>\n",
       "      <td>69</td>\n",
       "    </tr>\n",
       "    <tr>\n",
       "      <th>20</th>\n",
       "      <td>2.7</td>\n",
       "      <td>30</td>\n",
       "    </tr>\n",
       "    <tr>\n",
       "      <th>21</th>\n",
       "      <td>4.8</td>\n",
       "      <td>54</td>\n",
       "    </tr>\n",
       "    <tr>\n",
       "      <th>22</th>\n",
       "      <td>3.8</td>\n",
       "      <td>35</td>\n",
       "    </tr>\n",
       "    <tr>\n",
       "      <th>23</th>\n",
       "      <td>6.9</td>\n",
       "      <td>76</td>\n",
       "    </tr>\n",
       "    <tr>\n",
       "      <th>24</th>\n",
       "      <td>7.8</td>\n",
       "      <td>86</td>\n",
       "    </tr>\n",
       "  </tbody>\n",
       "</table>\n",
       "</div>"
      ],
      "text/plain": [
       "    Hours  Scores\n",
       "0     2.5      21\n",
       "1     5.1      47\n",
       "2     3.2      27\n",
       "3     8.5      75\n",
       "4     3.5      30\n",
       "5     1.5      20\n",
       "6     9.2      88\n",
       "7     5.5      60\n",
       "8     8.3      81\n",
       "9     2.7      25\n",
       "10    7.7      85\n",
       "11    5.9      62\n",
       "12    4.5      41\n",
       "13    3.3      42\n",
       "14    1.1      17\n",
       "15    8.9      95\n",
       "16    2.5      30\n",
       "17    1.9      24\n",
       "18    6.1      67\n",
       "19    7.4      69\n",
       "20    2.7      30\n",
       "21    4.8      54\n",
       "22    3.8      35\n",
       "23    6.9      76\n",
       "24    7.8      86"
      ]
     },
     "execution_count": 14,
     "metadata": {},
     "output_type": "execute_result"
    }
   ],
   "source": [
    "#alınan veriler:\n",
    "s_data"
   ]
  },
  {
   "cell_type": "markdown",
   "id": "4c16dc2c",
   "metadata": {},
   "source": [
    ">Burada kullanılan verilerde kategorik değişken ve eksik veri bulunmuyor.\n",
    "<br>\n",
    ">Bu nedenle bu adımları atladım."
   ]
  },
  {
   "cell_type": "markdown",
   "id": "a71a1c3a",
   "metadata": {},
   "source": [
    "Verilerden matplotlib kütüphanesini kullanarak 2d eyeball grafiği oluşturma:"
   ]
  },
  {
   "cell_type": "code",
   "execution_count": 16,
   "id": "32961858",
   "metadata": {},
   "outputs": [
    {
     "data": {
      "image/png": "[encoded data removed]",
      "text/plain": [
       "<Figure size 432x288 with 1 Axes>"
      ]
     },
     "metadata": {
      "needs_background": "light"
     },
     "output_type": "display_data"
    }
   ],
   "source": [
    "#Öğrencilerin notlarının dağılımı (x: çalışma saati , y: alınan not):\n",
    "s_data.plot(x='Hours', y='Scores', style='o')\n",
    "plt.title('Saatler ve Notlar')\n",
    "plt.xlabel('Çalışma Saatleri')\n",
    "plt.ylabel('Notlar')\n",
    "plt.show()"
   ]
  },
  {
   "cell_type": "markdown",
   "id": "92628a23",
   "metadata": {},
   "source": [
    ">Grafikten gördüğümüz kadarıyla veri setimizde outlier yok :) ."
   ]
  },
  {
   "cell_type": "code",
   "execution_count": 20,
   "id": "9eeb93d4",
   "metadata": {},
   "outputs": [],
   "source": [
    "#verileri input ve output olarak ayırma:\n",
    "saatler = s_data.iloc[:, :-1].values\n",
    "notlar = s_data.iloc[:, 1].values"
   ]
  },
  {
   "cell_type": "code",
   "execution_count": 31,
   "id": "1188ad88",
   "metadata": {},
   "outputs": [],
   "source": [
    "#verileri train ve test olarak bölme (scikit-learn train_test_split):\n",
    "from sklearn.model_selection import train_test_split\n",
    "saat_train, saat_test, not_train, not_test = train_test_split(saatler,\n",
    "                                                              notlar,\n",
    "                                                             test_size=0.2,\n",
    "                                                             random_state=0)"
   ]
  },
  {
   "cell_type": "code",
   "execution_count": 36,
   "id": "273ea220",
   "metadata": {},
   "outputs": [],
   "source": [
    "#train olarak ayırdığımız verileri train ve validation olarak bölecek fonk:\n",
    "def split_train_val(df,n):\n",
    "    return df[:n].copy(), df[n:].copy()"
   ]
  },
  {
   "cell_type": "code",
   "execution_count": 37,
   "id": "62842f02",
   "metadata": {},
   "outputs": [],
   "source": [
    "#fonksiyonu kullanma\n",
    "l_valid = 5 #test verileri ile aynı sayıda\n",
    "l_train = len(saat_train)-l_valid\n",
    "s_train, s_valid = split_train_val(saat_train, l_train)\n",
    "l_train = len(not_train)-l_valid\n",
    "n_train, n_valid = split_train_val(not_train, l_train)"
   ]
  },
  {
   "cell_type": "code",
   "execution_count": 49,
   "id": "e25fe34c",
   "metadata": {},
   "outputs": [
    {
     "name": "stdout",
     "output_type": "stream",
     "text": [
      "CPU times: total: 31.2 ms\n",
      "Wall time: 9.97 ms\n"
     ]
    },
    {
     "data": {
      "text/plain": [
       "0.9986639208756128"
      ]
     },
     "execution_count": 49,
     "metadata": {},
     "output_type": "execute_result"
    }
   ],
   "source": [
    "#ilk olarak dersteki RandomForestRegressor'u 1 tree ile kullanıyorum\n",
    "from sklearn.ensemble import RandomForestRegressor\n",
    "m = RandomForestRegressor(n_estimators=1, bootstrap=False, n_jobs=-1)\n",
    "%time m.fit(s_train, n_train)\n",
    "m.score(s_train, n_train)"
   ]
  },
  {
   "cell_type": "code",
   "execution_count": 50,
   "id": "ce27f56a",
   "metadata": {},
   "outputs": [],
   "source": [
    "#rmse ve r^2 ile score bakmak\n",
    "import math\n",
    "def rmse(x,y):\n",
    "    return math.sqrt(((x-y)**2).mean())"
   ]
  },
  {
   "cell_type": "code",
   "execution_count": 51,
   "id": "484485b1",
   "metadata": {},
   "outputs": [],
   "source": [
    "#rmse ve r^2 ile score bakmak 2\n",
    "def print_score(m):\n",
    "    print(f\"RMSE train {rmse(m.predict(s_train), n_train)}\")\n",
    "    print(f\"RMSE valid {rmse(m.predict(s_valid), n_valid)}\")\n",
    "    print(f\"R^2 train {m.score(s_train, n_train)}\")\n",
    "    print(f\"R^2 valid {m.score(s_valid, n_valid)}\")"
   ]
  },
  {
   "cell_type": "code",
   "execution_count": 67,
   "id": "b49cc8a1",
   "metadata": {},
   "outputs": [
    {
     "name": "stdout",
     "output_type": "stream",
     "text": [
      "RMSE train 4.539538237244775\n",
      "RMSE valid 8.752142594816426\n",
      "R^2 train 0.9669602477862653\n",
      "R^2 valid 0.8849435231915405\n"
     ]
    }
   ],
   "source": [
    "#rmse ve r^2 ile score bakmak 3\n",
    "print_score(m)"
   ]
  },
  {
   "cell_type": "markdown",
   "id": "d417da41",
   "metadata": {},
   "source": [
    ">Bu çalışmada kullanılan veriler çok az sayıda olduğu için subsample konusuna girmiyorum."
   ]
  },
  {
   "cell_type": "markdown",
   "id": "512c5708",
   "metadata": {},
   "source": [
    "train'de 15 verimiz olduğu için modeli 3 ağaçla denemek istiyorum."
   ]
  },
  {
   "cell_type": "code",
   "execution_count": 68,
   "id": "f6b004e6",
   "metadata": {},
   "outputs": [
    {
     "name": "stdout",
     "output_type": "stream",
     "text": [
      "CPU times: total: 0 ns\n",
      "Wall time: 0 ns\n",
      "RMSE train 4.0170931078376855\n",
      "RMSE valid 7.3970714926021\n",
      "R^2 train 0.9741275700224223\n",
      "R^2 valid 0.9178132259873428\n"
     ]
    }
   ],
   "source": [
    "m2 = RandomForestRegressor(n_estimators=3, bootstrap=True, n_jobs=-1)\n",
    "%time m2.fit(s_train, n_train)\n",
    "print_score(m2)"
   ]
  },
  {
   "cell_type": "markdown",
   "id": "772c8ef5",
   "metadata": {},
   "source": [
    "Tek ağaç kullandığım modelden daha iyi error sonucu aldım. <br>\n",
    "Şimdi de LinearRegression ile denemek istiyorum."
   ]
  },
  {
   "cell_type": "code",
   "execution_count": 70,
   "id": "2c9b92c3",
   "metadata": {},
   "outputs": [
    {
     "name": "stdout",
     "output_type": "stream",
     "text": [
      "CPU times: total: 0 ns\n",
      "Wall time: 998 µs\n",
      "RMSE train 4.976821994686867\n",
      "RMSE valid 7.254145388684697\n",
      "R^2 train 0.9602883767349093\n",
      "R^2 valid 0.9209585656690467\n"
     ]
    }
   ],
   "source": [
    "from sklearn.linear_model import LinearRegression\n",
    "m3 = LinearRegression()\n",
    "%time m3.fit(s_train, n_train)\n",
    "print_score(m3)"
   ]
  },
  {
   "cell_type": "markdown",
   "id": "7f649643",
   "metadata": {},
   "source": [
    "Bu model öncekilerden daha iyi sonuç veriyor gibi görünüyor."
   ]
  },
  {
   "cell_type": "markdown",
   "id": "7f23501d",
   "metadata": {},
   "source": [
    "Şimdi bu 3 modeli de test verileriyle çalıştırıp aradaki farkı görmek istiyorum."
   ]
  },
  {
   "cell_type": "code",
   "execution_count": 74,
   "id": "a5e728fa",
   "metadata": {},
   "outputs": [],
   "source": [
    "def print_score_test(m,m2,m3):\n",
    "    print(\"-------------m-----------\")\n",
    "    print()\n",
    "    print(f\"RMSE train {rmse(m.predict(s_train), n_train)}\")\n",
    "    print(f\"RMSE valid {rmse(m.predict(s_valid), n_valid)}\")\n",
    "    print(f\"RMSE test {rmse(m.predict(saat_test), not_test)}\")\n",
    "    print(f\"R^2 train {m.score(s_train, n_train)}\")\n",
    "    print(f\"R^2 valid {m.score(s_valid, n_valid)}\")\n",
    "    print(f\"R^2 test {m.score(saat_test, not_test)}\")\n",
    "    print()\n",
    "    print(\"-------------m2-----------\")\n",
    "    print()\n",
    "    print(f\"RMSE train {rmse(m2.predict(s_train), n_train)}\")\n",
    "    print(f\"RMSE valid {rmse(m2.predict(s_valid), n_valid)}\")\n",
    "    print(f\"RMSE test {rmse(m2.predict(saat_test), not_test)}\")\n",
    "    print(f\"R^2 train {m2.score(s_train, n_train)}\")\n",
    "    print(f\"R^2 valid {m2.score(s_valid, n_valid)}\")\n",
    "    print(f\"R^2 test {m2.score(saat_test, not_test)}\")\n",
    "    print()\n",
    "    print(\"-------------m3-----------\")\n",
    "    print()    \n",
    "    print(f\"RMSE train {rmse(m3.predict(s_train), n_train)}\")\n",
    "    print(f\"RMSE valid {rmse(m3.predict(s_valid), n_valid)}\")\n",
    "    print(f\"RMSE test {rmse(m3.predict(saat_test), not_test)}\")\n",
    "    print(f\"R^2 train {m3.score(s_train, n_train)}\")\n",
    "    print(f\"R^2 valid {m3.score(s_valid, n_valid)}\")\n",
    "    print(f\"R^2 test {m3.score(saat_test, not_test)}\")"
   ]
  },
  {
   "cell_type": "code",
   "execution_count": 75,
   "id": "848e8c39",
   "metadata": {},
   "outputs": [
    {
     "name": "stdout",
     "output_type": "stream",
     "text": [
      "-------------m-----------\n",
      "\n",
      "RMSE train 4.539538237244775\n",
      "RMSE valid 8.752142594816426\n",
      "RMSE test 10.253454702359267\n",
      "R^2 train 0.9669602477862653\n",
      "R^2 valid 0.8849435231915405\n",
      "R^2 test 0.7346725890032977\n",
      "\n",
      "-------------m2-----------\n",
      "\n",
      "RMSE train 4.0170931078376855\n",
      "RMSE valid 7.3970714926021\n",
      "RMSE test 8.138045083297204\n",
      "R^2 train 0.9741275700224223\n",
      "R^2 valid 0.9178132259873428\n",
      "R^2 test 0.832859434237387\n",
      "\n",
      "-------------m3-----------\n",
      "\n",
      "RMSE train 4.976821994686867\n",
      "RMSE valid 7.254145388684697\n",
      "RMSE test 4.958007722126245\n",
      "R^2 train 0.9602883767349093\n",
      "R^2 valid 0.9209585656690467\n",
      "R^2 test 0.9379622436587334\n"
     ]
    }
   ],
   "source": [
    "print_score_test(m,m2,m3)"
   ]
  },
  {
   "cell_type": "markdown",
   "id": "b795f2a3",
   "metadata": {},
   "source": [
    "Son olarak aldığım çıktıda denediğim 3 modelden son 2'si (3 decision tree ve linear regression) validation verilerinde birbirine çok yakın error almasına rağmen, test verilerinde linear regression daha az hata ile çalışmış."
   ]
  },
  {
   "cell_type": "code",
   "execution_count": null,
   "id": "8ecab14d",
   "metadata": {},
   "outputs": [],
   "source": []
  }
 ],
 "metadata": {
  "kernelspec": {
   "display_name": "Python 3 (ipykernel)",
   "language": "python",
   "name": "python3"
  },
  "language_info": {
   "codemirror_mode": {
    "name": "ipython",
    "version": 3
   },
   "file_extension": ".py",
   "mimetype": "text/x-python",
   "name": "python",
   "nbconvert_exporter": "python",
   "pygments_lexer": "ipython3",
   "version": "3.10.2"
  }
 },
 "nbformat": 4,
 "nbformat_minor": 5
}
